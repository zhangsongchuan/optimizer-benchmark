{
  "cells": [
    {
      "cell_type": "markdown",
      "metadata": {
        "colab_type": "text",
        "id": "view-in-github"
      },
      "source": [
        "<a href=\"https://colab.research.google.com/github/ifeherva/optimizer-benchmark/blob/master/Optimizer_benchmark_pytorch.ipynb\" target=\"_parent\"><img src=\"https://colab.research.google.com/assets/colab-badge.svg\" alt=\"Open In Colab\"/></a>"
      ]
    },
    {
      "cell_type": "markdown",
      "metadata": {
        "colab_type": "text",
        "id": "MmID3PR8ngYT"
      },
      "source": [
        "# Benchmark a stochastic gradient descent algorithm on CIFAR10\n",
        "\n",
        "See the [github repository](https://github.com/ifeherva/optimizer-benchmark) for details."
      ]
    },
    {
      "cell_type": "markdown",
      "metadata": {
        "colab_type": "text",
        "id": "NopfIZGtkOUL"
      },
      "source": [
        "Clone github repository"
      ]
    },
    {
      "cell_type": "code",
      "execution_count": null,
      "metadata": {
        "colab": {},
        "colab_type": "code",
        "id": "jKL58Eakjt9f"
      },
      "outputs": [],
      "source": [
        "!git clone -l -s git://github.com/ifeherva/optimizer-benchmark.git cloned-repo\n",
        "%cd cloned-repo\n",
        "!pip install tqdm wandb"
      ]
    },
    {
      "cell_type": "code",
      "execution_count": 1,
      "metadata": {
        "colab": {},
        "colab_type": "code",
        "id": "j4kMfxvpkYoQ"
      },
      "outputs": [
        {
          "name": "stderr",
          "output_type": "stream",
          "text": [
            "/home/zhang/anaconda3/envs/adamw/lib/python3.8/site-packages/tqdm/auto.py:22: TqdmWarning: IProgress not found. Please update jupyter and ipywidgets. See https://ipywidgets.readthedocs.io/en/stable/user_install.html\n",
            "  from .autonotebook import tqdm as notebook_tqdm\n"
          ]
        }
      ],
      "source": [
        "from train_cifar10 import parse_args, train_cifar10"
      ]
    },
    {
      "cell_type": "code",
      "execution_count": 2,
      "metadata": {
        "colab": {},
        "colab_type": "code",
        "id": "eAevft6vkzGO"
      },
      "outputs": [],
      "source": [
        "run_configuration = [\n",
        "    '--model', 'resnet34',\n",
        "    '--optim', 'sgd',  # Which optimizer to use\n",
        "    '--epochs', '200',  # Default is 200\n",
        "    '--wandb-project', 'optimizer-evaluation' # Uncomment line to store data in Weights and Biases, dont' forget to create the project first!\n",
        "]\n",
        "run_config = parse_args(run_configuration)"
      ]
    },
    {
      "cell_type": "markdown",
      "metadata": {
        "colab_type": "text",
        "id": "lHPzjmaoosV3"
      },
      "source": [
        "Execute training"
      ]
    },
    {
      "cell_type": "code",
      "execution_count": 3,
      "metadata": {
        "colab": {},
        "colab_type": "code",
        "id": "7SIV0uopoaxS"
      },
      "outputs": [
        {
          "name": "stderr",
          "output_type": "stream",
          "text": [
            "Epoch 199: 100%|██████████| 391/391 [00:36<00:00, 10.68it/s]\n"
          ]
        },
        {
          "name": "stdout",
          "output_type": "stream",
          "text": [
            "train acc 99.992\n",
            "train loss 0.491732\n"
          ]
        },
        {
          "name": "stderr",
          "output_type": "stream",
          "text": [
            "100%|██████████| 100/100 [00:02<00:00, 39.16it/s]\n"
          ]
        },
        {
          "name": "stdout",
          "output_type": "stream",
          "text": [
            "Test acc 95.400\n"
          ]
        }
      ],
      "source": [
        "train_cifar10(*run_config)"
      ]
    }
  ],
  "metadata": {
    "accelerator": "GPU",
    "colab": {
      "collapsed_sections": [],
      "include_colab_link": true,
      "name": "Copy of Optimizer-benchmark-pytorch.ipynb",
      "private_outputs": true,
      "provenance": []
    },
    "kernelspec": {
      "display_name": "Python 3.8.13 ('adamw')",
      "language": "python",
      "name": "python3"
    },
    "language_info": {
      "codemirror_mode": {
        "name": "ipython",
        "version": 3
      },
      "file_extension": ".py",
      "mimetype": "text/x-python",
      "name": "python",
      "nbconvert_exporter": "python",
      "pygments_lexer": "ipython3",
      "version": "3.8.13"
    },
    "vscode": {
      "interpreter": {
        "hash": "1ace7f88926f3ac7cea06daa437c93dae4c78fdd4960b14579bdc519058fb62e"
      }
    }
  },
  "nbformat": 4,
  "nbformat_minor": 0
}
